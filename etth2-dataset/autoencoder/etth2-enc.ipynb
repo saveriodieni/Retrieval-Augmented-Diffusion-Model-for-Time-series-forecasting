{
 "cells": [
  {
   "cell_type": "markdown",
   "id": "7dc1d880",
   "metadata": {},
   "source": [
    "# Imports"
   ]
  },
  {
   "cell_type": "code",
   "execution_count": 1,
   "id": "be2f0f9a",
   "metadata": {
    "execution": {
     "iopub.execute_input": "2025-10-19T08:36:47.349515Z",
     "iopub.status.busy": "2025-10-19T08:36:47.349183Z",
     "iopub.status.idle": "2025-10-19T08:36:52.057258Z",
     "shell.execute_reply": "2025-10-19T08:36:52.056367Z",
     "shell.execute_reply.started": "2025-10-19T08:36:47.349491Z"
    },
    "trusted": true
   },
   "outputs": [],
   "source": [
    "import torch\n",
    "import torch.nn as nn\n",
    "import os\n",
    "import pandas as pd\n",
    "import numpy as np\n",
    "from tqdm import tqdm\n",
    "import torch.nn.functional as F\n",
    "from torch.utils.data import DataLoader, TensorDataset\n",
    "import random"
   ]
  },
  {
   "cell_type": "code",
   "execution_count": 2,
   "id": "ca3bd44d",
   "metadata": {},
   "outputs": [
    {
     "name": "stdout",
     "output_type": "stream",
     "text": [
      "Seed 42\n"
     ]
    }
   ],
   "source": [
    "def set_seed(seed=42):\n",
    "    random.seed(seed)\n",
    "    os.environ[\"PYTHONHASHSEED\"] = str(seed)\n",
    "    \n",
    "    np.random.seed(seed)\n",
    "\n",
    "    torch.manual_seed(seed)\n",
    "    torch.cuda.manual_seed(seed)\n",
    "    torch.cuda.manual_seed_all(seed)\n",
    "    \n",
    "    torch.backends.cudnn.deterministic = True\n",
    "    torch.backends.cudnn.benchmark = False\n",
    "\n",
    "    print(f\"Seed {seed}\")\n",
    "\n",
    "set_seed(42)"
   ]
  },
  {
   "cell_type": "markdown",
   "id": "3a740f43",
   "metadata": {},
   "source": [
    "# Data extraction and preprocessing"
   ]
  },
  {
   "cell_type": "code",
   "execution_count": 3,
   "id": "6a717c9f",
   "metadata": {
    "execution": {
     "iopub.execute_input": "2025-10-19T08:36:52.058449Z",
     "iopub.status.busy": "2025-10-19T08:36:52.058066Z",
     "iopub.status.idle": "2025-10-19T08:36:52.350500Z",
     "shell.execute_reply": "2025-10-19T08:36:52.349493Z",
     "shell.execute_reply.started": "2025-10-19T08:36:52.058423Z"
    },
    "trusted": true
   },
   "outputs": [
    {
     "name": "stdout",
     "output_type": "stream",
     "text": [
      "                  date       HUFL    HULL       MUFL   MULL   LUFL   LULL  \\\n",
      "0  2016-07-01 00:00:00  41.130001  12.481  36.535999  9.355  4.424  1.311   \n",
      "1  2016-07-01 01:00:00  37.528000  10.136  33.936001  7.532  4.435  1.215   \n",
      "2  2016-07-01 02:00:00  37.946999  11.309  35.330002  9.007  2.100  0.000   \n",
      "3  2016-07-01 03:00:00  38.952000  11.895  35.543999  9.436  3.380  1.215   \n",
      "4  2016-07-01 04:00:00  38.113998  11.476  35.410000  9.623  2.036  0.000   \n",
      "\n",
      "          OT  \n",
      "0  38.661999  \n",
      "1  37.124001  \n",
      "2  36.465000  \n",
      "3  33.608501  \n",
      "4  31.850500  \n"
     ]
    }
   ],
   "source": [
    "# Load the CSV\n",
    "csv_file = \"../data/ETTh2.csv\"\n",
    "df = pd.read_csv(csv_file)\n",
    "print(df.head())"
   ]
  },
  {
   "cell_type": "code",
   "execution_count": 4,
   "id": "fc5d1845",
   "metadata": {
    "execution": {
     "iopub.execute_input": "2025-10-19T08:36:52.352918Z",
     "iopub.status.busy": "2025-10-19T08:36:52.352700Z",
     "iopub.status.idle": "2025-10-19T08:36:52.357060Z",
     "shell.execute_reply": "2025-10-19T08:36:52.356264Z",
     "shell.execute_reply.started": "2025-10-19T08:36:52.352902Z"
    },
    "trusted": true
   },
   "outputs": [],
   "source": [
    "window_length = 168\n",
    "step_size = 1"
   ]
  },
  {
   "cell_type": "code",
   "execution_count": 5,
   "id": "8e3db128",
   "metadata": {
    "execution": {
     "iopub.execute_input": "2025-10-19T08:36:52.358012Z",
     "iopub.status.busy": "2025-10-19T08:36:52.357826Z",
     "iopub.status.idle": "2025-10-19T08:36:55.615148Z",
     "shell.execute_reply": "2025-10-19T08:36:55.614280Z",
     "shell.execute_reply.started": "2025-10-19T08:36:52.357997Z"
    },
    "trusted": true
   },
   "outputs": [
    {
     "name": "stdout",
     "output_type": "stream",
     "text": [
      "Shape of X: (17253, 168, 7)\n",
      "Shape of meta_time: (17253, 168)\n"
     ]
    }
   ],
   "source": [
    "# 1. Order by date\n",
    "df[\"date\"] = pd.to_datetime(df[\"date\"])\n",
    "df = df.sort_values(\"date\").reset_index(drop=True)\n",
    "\n",
    "def extract_windows(df, window_len, step):\n",
    "    windows = []\n",
    "    timestamps = []\n",
    "    \n",
    "    # Drop non-numeric columns for window extraction\n",
    "    numeric_df = df.drop(columns=[\"date\"])\n",
    "    \n",
    "    for i in range(step - 1, len(df) - window_len + 1, step):\n",
    "        # Window of numeric features\n",
    "        window = numeric_df.iloc[i:i+window_len].values\n",
    "        windows.append(window)\n",
    "        \n",
    "        # Associate timestamps\n",
    "        timestamps.append(df[\"date\"].iloc[i:i+window_len].values)\n",
    "    \n",
    "    return np.array(windows), np.array(timestamps)\n",
    "\n",
    "all_windows, all_timestamps = extract_windows(df, window_length, step_size)\n",
    "\n",
    "X = all_windows  # shape: (num_samples, window_length, num_features)\n",
    "meta_time = all_timestamps  # metadata: array of associated dates\n",
    "\n",
    "print(\"Shape of X:\", X.shape)               # (num_samples, window_length, num_features)\n",
    "print(\"Shape of meta_time:\", meta_time.shape)  # (num_samples, window_length)\n"
   ]
  },
  {
   "cell_type": "code",
   "execution_count": 6,
   "id": "7e3e4b15",
   "metadata": {
    "execution": {
     "iopub.execute_input": "2025-10-19T08:36:55.616878Z",
     "iopub.status.busy": "2025-10-19T08:36:55.616037Z",
     "iopub.status.idle": "2025-10-19T08:37:17.086572Z",
     "shell.execute_reply": "2025-10-19T08:37:17.085843Z",
     "shell.execute_reply.started": "2025-10-19T08:36:55.616857Z"
    },
    "trusted": true
   },
   "outputs": [
    {
     "name": "stdout",
     "output_type": "stream",
     "text": [
      "8593 2785 2713\n"
     ]
    }
   ],
   "source": [
    "# Ensure the dataframe is sorted by date\n",
    "df[\"date\"] = pd.to_datetime(df[\"date\"])\n",
    "\n",
    "# Define time boundaries\n",
    "start_date = df[\"date\"].min()\n",
    "train_end = start_date + pd.DateOffset(months=12)\n",
    "val_end = train_end + pd.DateOffset(months=4)\n",
    "test_end = val_end + pd.DateOffset(months=4)\n",
    "\n",
    "# Create masks for each split\n",
    "train_mask = [all(d < train_end for d in window) for window in meta_time]\n",
    "val_mask   = [all((d >= train_end) and (d < val_end) for d in window) for window in meta_time]\n",
    "test_mask  = [all((d >= val_end) and (d < test_end) for d in window) for window in meta_time]\n",
    "\n",
    "# Apply the masks\n",
    "X_train = X[train_mask]\n",
    "X_val   = X[val_mask]\n",
    "X_test  = X[test_mask]\n",
    "\n",
    "meta_train = [m for m, flag in zip(meta_time, train_mask) if flag]\n",
    "meta_val   = [m for m, flag in zip(meta_time, val_mask) if flag]\n",
    "meta_test  = [m for m, flag in zip(meta_time, test_mask) if flag]\n",
    "\n",
    "print(len(X_train), len(X_val), len(X_test))"
   ]
  },
  {
   "cell_type": "markdown",
   "id": "661cfd8b",
   "metadata": {},
   "source": [
    "# Encoder and Decoder"
   ]
  },
  {
   "cell_type": "markdown",
   "id": "6359a70b",
   "metadata": {},
   "source": [
    "Our goal was to build an encoder-decoder model able to learn a compressed representaion of the input time series, so to allow a more efficient search of similar time series in a smaller dimensional space, speeding up the task of finding k nearest neighbours. </br> The encoder gets as input a tensor of shape (batch_size, seq_len, num_features) and compresses it into a tensor of shape (batch_size, embedding_dim), while the decoder takes the output of the encoder and tries to reconstruct the original input. "
   ]
  },
  {
   "cell_type": "code",
   "execution_count": 7,
   "id": "1a9a7560",
   "metadata": {
    "execution": {
     "iopub.execute_input": "2025-10-19T08:37:17.087911Z",
     "iopub.status.busy": "2025-10-19T08:37:17.087341Z",
     "iopub.status.idle": "2025-10-19T08:37:17.103329Z",
     "shell.execute_reply": "2025-10-19T08:37:17.102496Z",
     "shell.execute_reply.started": "2025-10-19T08:37:17.087889Z"
    },
    "trusted": true
   },
   "outputs": [],
   "source": [
    "class Chomp1d(nn.Module):\n",
    "    def __init__(self, chomp_size):\n",
    "        super().__init__()\n",
    "        self.chomp_size = chomp_size\n",
    "\n",
    "    def forward(self, x):\n",
    "        return x[:, :, :-self.chomp_size] if self.chomp_size > 0 else x\n",
    "\n",
    "class TemporalBlock(nn.Module):\n",
    "    def __init__(self, in_channels, out_channels, kernel_size, dilation, dropout):\n",
    "        super().__init__()\n",
    "        padding = (kernel_size - 1) * dilation  # full causal\n",
    "        self.conv1 = nn.Conv1d(in_channels, out_channels, kernel_size,\n",
    "                               padding=padding, dilation=dilation)\n",
    "        self.chomp1 = Chomp1d(padding)\n",
    "\n",
    "        self.relu1 = nn.ReLU()\n",
    "        self.dropout1 = nn.Dropout(dropout)\n",
    "\n",
    "        self.conv2 = nn.Conv1d(out_channels, out_channels, kernel_size,\n",
    "                               padding=padding, dilation=dilation)\n",
    "        self.chomp2 = Chomp1d(padding)\n",
    "\n",
    "        self.relu2 = nn.ReLU()\n",
    "        self.dropout2 = nn.Dropout(dropout)\n",
    "\n",
    "        self.net = nn.Sequential(\n",
    "            self.conv1, self.chomp1, self.relu1, self.dropout1,\n",
    "            self.conv2, self.chomp2, self.relu2, self.dropout2,\n",
    "        )\n",
    "\n",
    "        self.downsample = nn.Conv1d(in_channels, out_channels, 1) \\\n",
    "            if in_channels != out_channels else None\n",
    "        self.relu = nn.ReLU()\n",
    "\n",
    "    def forward(self, x):\n",
    "        res = x if self.downsample is None else self.downsample(x)\n",
    "        out = self.net(x)\n",
    "        if out.shape != res.shape:\n",
    "            # Align time dimension by cropping the residual (this might be necessary in some edge cases)\n",
    "            min_len = min(out.size(-1), res.size(-1))\n",
    "            out = out[..., :min_len]\n",
    "            res = res[..., :min_len]\n",
    "        return self.relu(out + res)\n",
    "\n",
    "# Encoder\n",
    "class TCNEncoder(nn.Module):\n",
    "    def __init__(self, input_dim, emb_dim, num_channels, kernel_size=3, dropout=0.2):\n",
    "        super().__init__()\n",
    "        layers = []\n",
    "        for i in range(len(num_channels)):\n",
    "            in_ch = input_dim if i == 0 else num_channels[i - 1]\n",
    "            out_ch = num_channels[i]\n",
    "            dilation = 2 ** i\n",
    "            layers.append(TemporalBlock(in_ch, out_ch, kernel_size, dilation, dropout))\n",
    "        self.tcn = nn.Sequential(*layers)\n",
    "\n",
    "        # Projection from [B, C, T] to [B, emb_dim]\n",
    "        self.pool = nn.AdaptiveAvgPool1d(1)\n",
    "        self.project = nn.Linear(num_channels[-1], emb_dim)\n",
    "\n",
    "    def forward(self, x):\n",
    "        # x: [B, T, D] → [B, D, T]\n",
    "        x = x.permute(0, 2, 1)\n",
    "        x = self.tcn(x)  # [B, C, T]\n",
    "        x = self.pool(x).squeeze(-1)  # [B, C]\n",
    "        x = self.project(x)  # [B, emb_dim]\n",
    "        return F.normalize(x, p=2, dim=1)\n",
    "\n",
    "# Decoder\n",
    "class TCNDecoder(nn.Module):\n",
    "    def __init__(self, emb_dim, output_dim, seq_len, num_channels, kernel_size=3, dropout=0.2):\n",
    "        super().__init__()\n",
    "        self.seq_len = seq_len\n",
    "        self.output_dim = output_dim\n",
    "\n",
    "        # Project embedding back to a sequence shape: [B, C, T]\n",
    "        self.expand = nn.Linear(emb_dim, num_channels[0] * seq_len)\n",
    "\n",
    "        layers = []\n",
    "        for i in range(len(num_channels) - 1):\n",
    "            in_ch = num_channels[i]\n",
    "            out_ch = num_channels[i + 1]\n",
    "            dilation = 2 ** i\n",
    "            layers.append(TemporalBlock(in_ch, out_ch, kernel_size, dilation, dropout))\n",
    "\n",
    "        self.tcn = nn.Sequential(*layers)\n",
    "        self.out_proj = nn.Conv1d(num_channels[-1], output_dim, kernel_size=1)\n",
    "\n",
    "    def forward(self, x):\n",
    "        # x: [B, emb_dim] → [B, C0, T]\n",
    "        x = self.expand(x)  # [B, C0 * T]\n",
    "        x = x.view(x.size(0), -1, self.seq_len)  # [B, C0, T]\n",
    "        x = self.tcn(x)  # [B, Cn, T]\n",
    "        x = self.out_proj(x)  # [B, D, T]\n",
    "        return x.permute(0, 2, 1)  # [B, T, D]\n",
    "    \n",
    "class TCNAutoencoder(nn.Module):\n",
    "    def __init__(self, input_dim, emb_dim, seq_len, channels, kernel_size=3, dropout=0.2):\n",
    "        super().__init__()\n",
    "        self.encoder = TCNEncoder(input_dim, emb_dim, channels, kernel_size, dropout)\n",
    "        self.decoder = TCNDecoder(emb_dim, input_dim, seq_len, channels[::-1], kernel_size, dropout)\n",
    "\n",
    "    def forward(self, x, only_encoder = False):\n",
    "        # x: [B, T, D]\n",
    "        z = self.encoder(x)       # [B, emb_dim]\n",
    "        if only_encoder:\n",
    "            return z\n",
    "        x_recon = self.decoder(z) # [B, T, D]\n",
    "        return x_recon"
   ]
  },
  {
   "cell_type": "code",
   "execution_count": 8,
   "id": "d42669af",
   "metadata": {
    "execution": {
     "iopub.execute_input": "2025-10-19T08:37:17.104477Z",
     "iopub.status.busy": "2025-10-19T08:37:17.104183Z",
     "iopub.status.idle": "2025-10-19T08:37:18.018412Z",
     "shell.execute_reply": "2025-10-19T08:37:18.017663Z",
     "shell.execute_reply.started": "2025-10-19T08:37:17.104461Z"
    },
    "trusted": true
   },
   "outputs": [
    {
     "name": "stdout",
     "output_type": "stream",
     "text": [
      "[[[41.5553271  12.27138667 46.71778097 10.54299297  1.13316025\n",
      "   -2.40263663 26.89066751]]] [[[10.47370392  4.60071747 16.85591906  3.02014106  4.69107779\n",
      "    8.48074664 11.63250673]]]\n"
     ]
    }
   ],
   "source": [
    "# Compute the statistics of the train dataset and normalize with respect to it \n",
    "\n",
    "mean = X_train.mean(axis=(0, 1), keepdims=True)  # shape (1, 1, num_features)\n",
    "std = X_train.std(axis=(0, 1), keepdims=True)\n",
    "\n",
    "X_train = (X_train - mean) / std\n",
    "X_val = (X_val - mean) / std\n",
    "X_test = (X_test - mean) / std\n",
    "\n",
    "print(mean, std)"
   ]
  },
  {
   "cell_type": "code",
   "execution_count": 9,
   "id": "8bdd7eea",
   "metadata": {
    "execution": {
     "iopub.execute_input": "2025-10-19T08:37:18.019349Z",
     "iopub.status.busy": "2025-10-19T08:37:18.019134Z",
     "iopub.status.idle": "2025-10-19T08:37:18.185270Z",
     "shell.execute_reply": "2025-10-19T08:37:18.184427Z",
     "shell.execute_reply.started": "2025-10-19T08:37:18.019332Z"
    },
    "trusted": true
   },
   "outputs": [],
   "source": [
    "# Convert into PyTorch tensors\n",
    "X_train_tensor = torch.tensor(X_train, dtype=torch.float32)\n",
    "X_val_tensor = torch.tensor(X_val, dtype=torch.float32)\n",
    "X_test_tensor = torch.tensor(X_test, dtype=torch.float32)\n",
    "\n",
    "# Dataset & DataLoader\n",
    "batch_size = 32\n",
    "train_loader = DataLoader(TensorDataset(X_train_tensor), batch_size=batch_size, shuffle=True)\n",
    "val_loader = DataLoader(TensorDataset(X_val_tensor), batch_size=batch_size)\n",
    "test_loader = DataLoader(TensorDataset(X_test_tensor), batch_size=batch_size)"
   ]
  },
  {
   "cell_type": "markdown",
   "id": "ec739f61",
   "metadata": {},
   "source": [
    "# Model training"
   ]
  },
  {
   "cell_type": "code",
   "execution_count": 10,
   "id": "542c4e8a-f971-4743-b839-e7b11637c650",
   "metadata": {
    "execution": {
     "iopub.execute_input": "2025-10-19T08:59:42.926603Z",
     "iopub.status.busy": "2025-10-19T08:59:42.926262Z",
     "iopub.status.idle": "2025-10-19T09:13:12.322828Z",
     "shell.execute_reply": "2025-10-19T09:13:12.321959Z",
     "shell.execute_reply.started": "2025-10-19T08:59:42.926582Z"
    },
    "trusted": true
   },
   "outputs": [
    {
     "name": "stdout",
     "output_type": "stream",
     "text": [
      "Model parameters: 1,444,039\n",
      " Model saved successfully at epoch 1.\n",
      "Epoch 001 | Train Loss: 0.440832 | Val MSE: 0.535491 | Test MSE: 1.257411\n",
      " Model saved successfully at epoch 2.\n",
      "Epoch 002 | Train Loss: 0.270523 | Val MSE: 0.523615 | Test MSE: 1.300652\n",
      "Epoch 003 | Train Loss: 0.239573 | Val MSE: 0.554435 | Test MSE: 1.310541\n",
      " Model saved successfully at epoch 4.\n",
      "Epoch 004 | Train Loss: 0.221733 | Val MSE: 0.511908 | Test MSE: 1.271687\n",
      " Model saved successfully at epoch 5.\n",
      "Epoch 005 | Train Loss: 0.209242 | Val MSE: 0.510291 | Test MSE: 1.379557\n",
      "Epoch 006 | Train Loss: 0.200758 | Val MSE: 0.523204 | Test MSE: 1.451184\n",
      "Epoch 007 | Train Loss: 0.192603 | Val MSE: 0.525092 | Test MSE: 1.397437\n",
      " Model saved successfully at epoch 8.\n",
      "Epoch 008 | Train Loss: 0.186805 | Val MSE: 0.507548 | Test MSE: 1.389767\n",
      "Epoch 009 | Train Loss: 0.181392 | Val MSE: 0.532229 | Test MSE: 1.529676\n",
      "Epoch 010 | Train Loss: 0.175462 | Val MSE: 0.512452 | Test MSE: 1.498006\n",
      " Model saved successfully at epoch 11.\n",
      "Epoch 011 | Train Loss: 0.168995 | Val MSE: 0.463331 | Test MSE: 1.326330\n",
      "Epoch 012 | Train Loss: 0.164142 | Val MSE: 0.517401 | Test MSE: 1.447488\n",
      "Epoch 013 | Train Loss: 0.159360 | Val MSE: 0.487101 | Test MSE: 1.298618\n",
      "Epoch 014 | Train Loss: 0.158095 | Val MSE: 0.464357 | Test MSE: 1.250431\n",
      " Model saved successfully at epoch 15.\n",
      "Epoch 015 | Train Loss: 0.155743 | Val MSE: 0.454966 | Test MSE: 1.234648\n",
      " Model saved successfully at epoch 16.\n",
      "Epoch 016 | Train Loss: 0.151505 | Val MSE: 0.450350 | Test MSE: 1.288101\n",
      " Model saved successfully at epoch 17.\n",
      "Epoch 017 | Train Loss: 0.147290 | Val MSE: 0.445433 | Test MSE: 1.143570\n",
      " Model saved successfully at epoch 18.\n",
      "Epoch 018 | Train Loss: 0.144187 | Val MSE: 0.437986 | Test MSE: 1.183892\n",
      "Epoch 019 | Train Loss: 0.140923 | Val MSE: 0.438566 | Test MSE: 1.153115\n",
      "Epoch 020 | Train Loss: 0.135043 | Val MSE: 0.455095 | Test MSE: 1.162456\n",
      "Epoch 021 | Train Loss: 0.132061 | Val MSE: 0.464189 | Test MSE: 1.160747\n",
      "Epoch 022 | Train Loss: 0.130227 | Val MSE: 0.460140 | Test MSE: 1.077458\n",
      "Epoch 023 | Train Loss: 0.128753 | Val MSE: 0.477610 | Test MSE: 1.151987\n",
      " Model saved successfully at epoch 24.\n",
      "Epoch 024 | Train Loss: 0.124622 | Val MSE: 0.436207 | Test MSE: 1.036975\n",
      "Epoch 025 | Train Loss: 0.123959 | Val MSE: 0.530435 | Test MSE: 1.238425\n",
      "Epoch 026 | Train Loss: 0.123111 | Val MSE: 0.489495 | Test MSE: 1.110469\n",
      "Epoch 027 | Train Loss: 0.119189 | Val MSE: 0.485938 | Test MSE: 1.146410\n",
      "Epoch 028 | Train Loss: 0.117239 | Val MSE: 0.504885 | Test MSE: 1.160206\n",
      "Epoch 029 | Train Loss: 0.117465 | Val MSE: 0.474657 | Test MSE: 1.146955\n",
      "Epoch 030 | Train Loss: 0.115395 | Val MSE: 0.494191 | Test MSE: 1.162241\n",
      "Epoch 031 | Train Loss: 0.114313 | Val MSE: 0.502154 | Test MSE: 1.097736\n",
      "Epoch 032 | Train Loss: 0.114094 | Val MSE: 0.490213 | Test MSE: 1.104807\n",
      "Epoch 033 | Train Loss: 0.112139 | Val MSE: 0.525098 | Test MSE: 1.140097\n",
      "\n",
      " Early stopping at epoch 34 (no improvement for 10 epochs).\n",
      "\n",
      " Best validation loss: 0.436207 at epoch 24.\n"
     ]
    }
   ],
   "source": [
    "emb_dim = 256\n",
    "channels = [32, 32, 32, 32, 32]\n",
    "device = torch.device(\"cuda\" if torch.cuda.is_available() else \"cpu\")\n",
    "\n",
    "model = TCNAutoencoder(input_dim=7, emb_dim=emb_dim, seq_len=168, channels=channels).to(device)\n",
    "\n",
    "def count_parameters(model):\n",
    "    \"\"\"Counts the number of trainable parameters in the model.\"\"\"\n",
    "    return sum(p.numel() for p in model.parameters() if p.requires_grad)\n",
    "\n",
    "print(f\"Model parameters: {count_parameters(model):,}\")\n",
    "\n",
    "optimizer = torch.optim.Adam(model.parameters(), lr=1e-3)\n",
    "loss_fn = nn.MSELoss()\n",
    "\n",
    "# ------------------------------\n",
    "# Contrastive + Metric Preservation Autoencoder\n",
    "# ------------------------------\n",
    "\n",
    "def cosine_similarity_matrix(z):\n",
    "    \"\"\"Returns the cosine similarity matrix between all samples in the batch.\"\"\"\n",
    "    z = F.normalize(z, p=2, dim=1)\n",
    "    return torch.mm(z, z.T)\n",
    "\n",
    "def metric_preserving_loss(x, z):\n",
    "    \"\"\"\n",
    "    Penalizes the difference between cosine similarities in the original and latent spaces.\n",
    "    Both are normalized within the batch.\n",
    "    \"\"\"\n",
    "    with torch.no_grad():\n",
    "        sim_x = cosine_similarity_matrix(x.flatten(1))  # similarity in input space (batch only)\n",
    "    sim_z = cosine_similarity_matrix(z)\n",
    "    return F.mse_loss(sim_z, sim_x)\n",
    "\n",
    "# --- Contrastive loss (SimCLR-style) ---\n",
    "def contrastive_loss(z1, z2, temperature=0.3):\n",
    "    \"\"\"Computes a SimCLR-style contrastive loss between two augmented views.\"\"\"\n",
    "    z = torch.cat([z1, z2], dim=0)\n",
    "    sim = torch.mm(z, z.T) / temperature\n",
    "\n",
    "    # Mask to exclude self-similarity\n",
    "    mask = torch.eye(sim.size(0), device=z.device).bool()\n",
    "    sim = sim.masked_fill(mask, -1e9)\n",
    "\n",
    "    # Labels: each i in [0, B-1] has positive i+B, and vice versa\n",
    "    labels = torch.cat([\n",
    "        torch.arange(z1.size(0), z1.size(0) * 2),\n",
    "        torch.arange(0, z1.size(0))\n",
    "    ]).to(z.device)\n",
    "\n",
    "    loss = F.cross_entropy(sim, labels)\n",
    "    return loss\n",
    "\n",
    "# ------------------------------\n",
    "# Training loop with 3 losses\n",
    "# ------------------------------\n",
    "\n",
    "lambda_contrast = 0.02\n",
    "lambda_sim = 0.3\n",
    "temperature = 0.2\n",
    "\n",
    "epochs = 100\n",
    "best_loss = float(\"inf\")\n",
    "encoder_path = \"encoder.pth\"\n",
    "\n",
    "patience = 10\n",
    "wait = 0\n",
    "best_epoch = 0\n",
    "\n",
    "# --- Evaluation helper ---\n",
    "def evaluate(model, loader):\n",
    "    \"\"\"Evaluates model reconstruction MSE on a given dataloader.\"\"\"\n",
    "    model.eval()\n",
    "    total_loss = 0\n",
    "    with torch.no_grad():\n",
    "        for (x,) in loader:\n",
    "            x = x.to(device)\n",
    "            x_hat = model(x)\n",
    "            loss = loss_fn(x_hat, x)\n",
    "            total_loss += loss.item()\n",
    "    return total_loss / len(loader)\n",
    "\n",
    "for epoch in range(1, epochs + 1):\n",
    "    model.train()\n",
    "    train_loss = 0\n",
    "\n",
    "    for (x,) in train_loader:\n",
    "        x = x.to(device)\n",
    "\n",
    "        # Light augmentations\n",
    "        noise = torch.randn_like(x) * 0.02\n",
    "        scale = 1.0 + torch.randn_like(x) * 0.03\n",
    "        x1 = x * scale + noise\n",
    "        x2 = x * (1.0 - 0.5 * torch.randn_like(x))  # second view\n",
    "\n",
    "        # Forward pass\n",
    "        x_hat = model(x)\n",
    "        z1 = model.encoder(x1)\n",
    "        z2 = model.encoder(x2)\n",
    "\n",
    "        # Compute losses\n",
    "        recon_loss = F.mse_loss(x_hat, x)\n",
    "        cont_loss = contrastive_loss(z1, z2, temperature)\n",
    "        sim_loss = metric_preserving_loss(x, z1)\n",
    "\n",
    "        if cont_loss == float(\"inf\"):\n",
    "            print(\"Infinite Contrastive Loss\")\n",
    "        if sim_loss == float(\"inf\"):\n",
    "            print(\"Infinite Similarity Loss\")\n",
    "\n",
    "        total_loss = recon_loss + lambda_contrast * cont_loss + lambda_sim * sim_loss\n",
    "\n",
    "        optimizer.zero_grad()\n",
    "        total_loss.backward()\n",
    "        optimizer.step()\n",
    "\n",
    "        train_loss += total_loss.item()\n",
    "\n",
    "    train_loss /= len(train_loader)\n",
    "    val_loss = evaluate(model, val_loader)\n",
    "    test_loss = evaluate(model, test_loader)\n",
    "\n",
    "    # Early stopping\n",
    "    if val_loss < best_loss:\n",
    "        best_loss = val_loss\n",
    "        best_epoch = epoch\n",
    "        wait = 0\n",
    "        torch.save(model.state_dict(), encoder_path)\n",
    "        print(f\" Model saved successfully at epoch {epoch}.\")\n",
    "    else:\n",
    "        wait += 1\n",
    "        if wait >= patience:\n",
    "            print(f\"\\n Early stopping at epoch {epoch} (no improvement for {patience} epochs).\")\n",
    "            break\n",
    "\n",
    "    print(f\"Epoch {epoch:03d} | Train Loss: {train_loss:.6f} | Val MSE: {val_loss:.6f} | Test MSE: {test_loss:.6f}\")\n",
    "\n",
    "print(f\"\\n Best validation loss: {best_loss:.6f} at epoch {best_epoch}.\")\n"
   ]
  },
  {
   "cell_type": "markdown",
   "id": "ad8499e3",
   "metadata": {},
   "source": [
    "# Save the models"
   ]
  },
  {
   "cell_type": "code",
   "execution_count": 11,
   "id": "446e901f",
   "metadata": {
    "execution": {
     "iopub.execute_input": "2025-10-19T09:13:12.324332Z",
     "iopub.status.busy": "2025-10-19T09:13:12.324105Z",
     "iopub.status.idle": "2025-10-19T09:13:12.370071Z",
     "shell.execute_reply": "2025-10-19T09:13:12.369174Z",
     "shell.execute_reply.started": "2025-10-19T09:13:12.324314Z"
    },
    "trusted": true
   },
   "outputs": [
    {
     "name": "stdout",
     "output_type": "stream",
     "text": [
      "Models reloaded successfully.\n"
     ]
    },
    {
     "name": "stderr",
     "output_type": "stream",
     "text": [
      "C:\\Users\\saver\\AppData\\Local\\Temp\\ipykernel_4684\\2487370983.py:5: FutureWarning: You are using `torch.load` with `weights_only=False` (the current default value), which uses the default pickle module implicitly. It is possible to construct malicious pickle data which will execute arbitrary code during unpickling (See https://github.com/pytorch/pytorch/blob/main/SECURITY.md#untrusted-models for more details). In a future release, the default value for `weights_only` will be flipped to `True`. This limits the functions that could be executed during unpickling. Arbitrary objects will no longer be allowed to be loaded via this mode unless they are explicitly allowlisted by the user via `torch.serialization.add_safe_globals`. We recommend you start setting `weights_only=True` for any use case where you don't have full control of the loaded file. Please open an issue on GitHub for any issues related to this experimental feature.\n",
      "  model.load_state_dict(torch.load(\"encoder.pth\"))\n"
     ]
    }
   ],
   "source": [
    "emb_dim = 256\n",
    "channels = [32, 32, 32, 32, 32]\n",
    "model = TCNAutoencoder(input_dim=7, emb_dim=emb_dim, seq_len=168, channels=channels)\n",
    "\n",
    "model.load_state_dict(torch.load(\"encoder.pth\"))\n",
    "device = torch.device(\"cuda\" if torch.cuda.is_available() else \"cpu\")\n",
    "model.to(device)\n",
    "\n",
    "model.eval()\n",
    "\n",
    "print(\"Models reloaded successfully.\")"
   ]
  },
  {
   "cell_type": "code",
   "execution_count": 12,
   "id": "c68289ec-9a0a-4ed7-8d9f-e68e90c502db",
   "metadata": {
    "execution": {
     "iopub.execute_input": "2025-10-19T09:13:12.371443Z",
     "iopub.status.busy": "2025-10-19T09:13:12.371179Z",
     "iopub.status.idle": "2025-10-19T09:13:41.425694Z",
     "shell.execute_reply": "2025-10-19T09:13:41.424888Z",
     "shell.execute_reply.started": "2025-10-19T09:13:12.371421Z"
    },
    "trusted": true
   },
   "outputs": [
    {
     "name": "stdout",
     "output_type": "stream",
     "text": [
      "Shapes:\n",
      "  sim_original: (5498, 8593)\n",
      "  sim_encoded : (5498, 8593)\n",
      "L1 difference between similarity matrices: 0.122242\n"
     ]
    }
   ],
   "source": [
    "import torch\n",
    "import torch.nn.functional as F\n",
    "from sklearn.metrics import pairwise_distances\n",
    "import numpy as np\n",
    "\n",
    "def encode_in_batches(model, X, device, batch_size=256):\n",
    "    \"\"\"Encodes X in mini-batches to avoid out-of-memory (OOM) errors.\"\"\"\n",
    "    model.eval()\n",
    "    embeddings = []\n",
    "    with torch.no_grad():\n",
    "        for i in range(0, len(X), batch_size):\n",
    "            batch = torch.tensor(X[i:i+batch_size], dtype=torch.float32).to(device)\n",
    "            emb = model.encoder(batch)\n",
    "            embeddings.append(emb.cpu())\n",
    "            del batch, emb\n",
    "            torch.cuda.empty_cache()\n",
    "    return torch.cat(embeddings, dim=0).numpy()\n",
    "\n",
    "# ---- Computation ----\n",
    "train_len, val_len, test_len = len(X_train), len(X_val), len(X_test)\n",
    "\n",
    "# ===========================\n",
    "# ORIGINAL DATA PREPARATION\n",
    "# ===========================\n",
    "# If they are PyTorch tensors → convert to NumPy arrays\n",
    "def to_numpy(x):\n",
    "    if isinstance(x, torch.Tensor):\n",
    "        return x.detach().cpu().numpy()\n",
    "    return np.asarray(x)\n",
    "\n",
    "X_train_orig = to_numpy(X_train)\n",
    "X_val_norm_np = to_numpy(X_val)\n",
    "X_test_norm_np = to_numpy(X_test)\n",
    "\n",
    "# Concatenate validation and test sets\n",
    "X_valtest_orig = np.concatenate([X_val_norm_np, X_test_norm_np], axis=0)\n",
    "\n",
    "# ===========================\n",
    "# FLATTEN TIME SERIES\n",
    "# ===========================\n",
    "# If shape is (N, T, D) → reshape to (N, T*D)\n",
    "X_train_flat = X_train_orig.reshape(X_train_orig.shape[0], -1)\n",
    "X_valtest_flat = X_valtest_orig.reshape(X_valtest_orig.shape[0], -1)\n",
    "\n",
    "# ===========================\n",
    "# ENCODED ARRAYS (GPU → mini-batches)\n",
    "# ===========================\n",
    "X_train_enc = encode_in_batches(model, X_train_orig, device)\n",
    "X_valtest_enc = encode_in_batches(model, X_valtest_orig, device)\n",
    "\n",
    "# ===========================\n",
    "# COSINE SIMILARITY\n",
    "# ===========================\n",
    "sim_original = 1 - pairwise_distances(X_valtest_flat, X_train_flat, metric=\"cosine\")\n",
    "sim_encoded  = 1 - pairwise_distances(X_valtest_enc, X_train_enc, metric=\"cosine\")\n",
    "\n",
    "print(\"Shapes:\")\n",
    "print(\"  sim_original:\", sim_original.shape)\n",
    "print(\"  sim_encoded :\", sim_encoded.shape)\n",
    "\n",
    "# ===========================\n",
    "# L1 DIFFERENCE CALCULATION\n",
    "# ===========================\n",
    "sim_original_t = torch.tensor(sim_original, dtype=torch.float32)\n",
    "sim_encoded_t  = torch.tensor(sim_encoded, dtype=torch.float32)\n",
    "\n",
    "l1_diff = torch.nn.L1Loss()(sim_original_t, sim_encoded_t)\n",
    "print(f\"L1 difference between similarity matrices: {l1_diff.item():.6f}\")\n"
   ]
  },
  {
   "cell_type": "code",
   "execution_count": 13,
   "id": "59ecd513-097d-483e-be3c-e7deefc68e63",
   "metadata": {
    "execution": {
     "iopub.execute_input": "2025-10-19T09:13:41.427218Z",
     "iopub.status.busy": "2025-10-19T09:13:41.426992Z",
     "iopub.status.idle": "2025-10-19T09:13:41.627121Z",
     "shell.execute_reply": "2025-10-19T09:13:41.626324Z",
     "shell.execute_reply.started": "2025-10-19T09:13:41.427201Z"
    },
    "trusted": true
   },
   "outputs": [
    {
     "data": {
      "image/png": "[encoded data removed]",
      "text/plain": [
       "<Figure size 500x500 with 1 Axes>"
      ]
     },
     "metadata": {},
     "output_type": "display_data"
    },
    {
     "name": "stdout",
     "output_type": "stream",
     "text": [
      "Pearson Correlation: 0.930\n"
     ]
    }
   ],
   "source": [
    "import numpy as np\n",
    "import matplotlib.pyplot as plt\n",
    "\n",
    "# for i in range(100):\n",
    "# Sample 50k random couples\n",
    "n_samples = 50_000\n",
    "rows = np.random.randint(0, sim_original.shape[0], n_samples)\n",
    "cols = np.random.randint(0, sim_original.shape[1], n_samples)\n",
    "sim_o = sim_original[rows, cols]\n",
    "sim_e = sim_encoded[rows, cols]\n",
    "\n",
    "plt.figure(figsize=(5,5))\n",
    "plt.scatter(sim_o, sim_e, s=2, alpha=0.3)\n",
    "plt.xlabel(\"Original similarity\")\n",
    "plt.ylabel(\"Encoded similarity\")\n",
    "plt.title(\"Similarity Correlation (random samples)\")\n",
    "plt.grid(True)\n",
    "plt.show()\n",
    "\n",
    "corr = np.corrcoef(sim_o, sim_e)[0,1]\n",
    "print(f\"Pearson Correlation: {corr:.3f}\")\n"
   ]
  },
  {
   "cell_type": "code",
   "execution_count": 14,
   "id": "e02ca8f0-f11f-49c8-89cd-aa6337d78524",
   "metadata": {
    "execution": {
     "iopub.execute_input": "2025-10-19T09:13:41.627952Z",
     "iopub.status.busy": "2025-10-19T09:13:41.627767Z",
     "iopub.status.idle": "2025-10-19T09:15:26.739971Z",
     "shell.execute_reply": "2025-10-19T09:15:26.739244Z",
     "shell.execute_reply.started": "2025-10-19T09:13:41.627937Z"
    },
    "trusted": true
   },
   "outputs": [
    {
     "name": "stdout",
     "output_type": "stream",
     "text": [
      "Top-3 set match rate: 0.0067\n",
      "Average top-3 overlap: 0.0306\n"
     ]
    }
   ],
   "source": [
    "def topk_neighbors_in_batches(X_query, X_ref, k=3, batch_size=512):\n",
    "    \"\"\"\n",
    "    Computes the top-k nearest neighbors for X_query with respect to X_ref in mini-batches,\n",
    "    avoiding the need to construct the full similarity matrix.\n",
    "    Returns an array (n_query, k) of indices.\n",
    "    \"\"\"\n",
    "    n_query = X_query.shape[0]\n",
    "    topk_indices = np.empty((n_query, k), dtype=np.int32)\n",
    "\n",
    "    for start in range(0, n_query, batch_size):\n",
    "        end = min(start + batch_size, n_query)\n",
    "        sim = 1 - pairwise_distances(X_query[start:end], X_ref, metric=\"cosine\")\n",
    "        topk_indices[start:end] = np.argsort(-sim, axis=1)[:, :k]\n",
    "        del sim\n",
    "    return topk_indices\n",
    "\n",
    "\n",
    "def compute_topk_set_match(X_train_orig, X_valtest_orig,\n",
    "                           X_train_enc, X_valtest_enc,\n",
    "                           k=3, batch_size=512):\n",
    "    \"\"\"\n",
    "    Compares the top-k neighbors as sets (ignoring order).\n",
    "    \"\"\"\n",
    "    topk_orig = topk_neighbors_in_batches(X_valtest_orig, X_train_orig, k, batch_size)\n",
    "    topk_enc  = topk_neighbors_in_batches(X_valtest_enc,  X_train_enc,  k, batch_size)\n",
    "\n",
    "    # Compute overlap\n",
    "    overlaps = np.array([\n",
    "        len(set(topk_orig[i]).intersection(set(topk_enc[i]))) / k\n",
    "        for i in range(len(topk_orig))\n",
    "    ])\n",
    "    match_rate = np.mean(overlaps == 1.0)\n",
    "    avg_overlap = overlaps.mean()\n",
    "    return match_rate, avg_overlap\n",
    "\n",
    "\n",
    "# ===== EXECUTION =====\n",
    "match_rate, avg_overlap = compute_topk_set_match(\n",
    "    X_train_flat, X_valtest_flat, X_train_enc, X_valtest_enc, k=3, batch_size=256\n",
    ")\n",
    "\n",
    "print(f\"Top-3 set match rate: {match_rate:.4f}\")\n",
    "print(f\"Average top-3 overlap: {avg_overlap:.4f}\")"
   ]
  }
 ],
 "metadata": {
  "kaggle": {
   "accelerator": "nvidiaTeslaT4",
   "dataSources": [
    {
     "datasetId": 2569834,
     "sourceId": 4371501,
     "sourceType": "datasetVersion"
    }
   ],
   "dockerImageVersionId": 31154,
   "isGpuEnabled": true,
   "isInternetEnabled": true,
   "language": "python",
   "sourceType": "notebook"
  },
  "kernelspec": {
   "display_name": "Python 3",
   "language": "python",
   "name": "python3"
  },
  "language_info": {
   "codemirror_mode": {
    "name": "ipython",
    "version": 3
   },
   "file_extension": ".py",
   "mimetype": "text/x-python",
   "name": "python",
   "nbconvert_exporter": "python",
   "pygments_lexer": "ipython3",
   "version": "3.12.0"
  }
 },
 "nbformat": 4,
 "nbformat_minor": 5
}
